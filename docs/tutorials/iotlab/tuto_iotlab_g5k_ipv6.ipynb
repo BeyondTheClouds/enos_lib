{
 "cells": [
  {
   "cell_type": "markdown",
   "metadata": {},
   "source": [
    "# Grid'5000 and FIT/IoT-LAB - IPv6"
   ]
  },
  {
   "cell_type": "markdown",
   "metadata": {},
   "source": [
    "## Introduction"
   ]
  },
  {
   "cell_type": "markdown",
   "metadata": {},
   "source": [
    "This example shows how to interact with both platforms in a single experiment.\n",
    "\n",
    "An IPv6 network is built in IoT-LAB platform, composed of a border sensor and CoAP servers.\n",
    "A node in Grid'5000 is the client, which uses a CoAP client to read the sensor using its global IPv6 address.\n",
    "\n",
    "Inspired on: https://www.iot-lab.info/legacy/tutorials/contiki-coap-m3/index.html"
   ]
  },
  {
   "cell_type": "code",
   "execution_count": 1,
   "metadata": {},
   "outputs": [
    {
     "name": "stdout",
     "output_type": "stream",
     "text": [
      "Note: Openstack clients not installed\n"
     ]
    }
   ],
   "source": [
    "from enoslib import *\n",
    "import logging\n",
    "import sys"
   ]
  },
  {
   "cell_type": "markdown",
   "metadata": {},
   "source": [
    "Configuring logging: save DEBUG to a file and INFO to stdout"
   ]
  },
  {
   "cell_type": "code",
   "execution_count": 2,
   "metadata": {},
   "outputs": [],
   "source": [
    "log = logging.getLogger()\n",
    "log.setLevel(logging.DEBUG)\n",
    "\n",
    "formatter = logging.Formatter('%(asctime)s - %(name)s - %(levelname)s - %(message)s')\n",
    "fileHandler = logging.FileHandler(\"debug.log\", 'a')\n",
    "fileHandler.setLevel(logging.DEBUG)\n",
    "fileHandler.setFormatter(formatter)\n",
    "log.addHandler(fileHandler)\n",
    "\n",
    "cformat = logging.Formatter(\"[%(levelname)8s] : %(message)s\")\n",
    "consoleHandler = logging.StreamHandler(sys.stdout)\n",
    "consoleHandler.setFormatter(cformat)\n",
    "consoleHandler.setLevel(logging.INFO)\n",
    "log.addHandler(consoleHandler)"
   ]
  },
  {
   "cell_type": "markdown",
   "metadata": {},
   "source": [
    "## Getting resources"
   ]
  },
  {
   "cell_type": "markdown",
   "metadata": {},
   "source": [
    "### IoT-LAB provider configuration: reserve M3 nodes in saclay site\n",
    "\n",
    "Note: It uses the following M3 images: border-router.iotlab-m3 and er-example-server.iotlab-m3.\n",
    "\n",
    "More details on how to generate these images in: https://www.iot-lab.info/legacy/tutorials/contiki-coap-m3/index.html"
   ]
  },
  {
   "cell_type": "code",
   "execution_count": 3,
   "metadata": {},
   "outputs": [
    {
     "name": "stdout",
     "output_type": "stream",
     "text": [
      "{\n",
      "    \"job_name\": \"iotlab_g5k-ipv6\",\n",
      "    \"walltime\": \"01:00\",\n",
      "    \"resources\": {\n",
      "        \"machines\": [\n",
      "            {\n",
      "                \"roles\": [\n",
      "                    \"border_router\"\n",
      "                ],\n",
      "                \"image\": \"border-router.iotlab-m3\",\n",
      "                \"archi\": \"m3:at86rf231\",\n",
      "                \"site\": \"saclay\",\n",
      "                \"number\": 1\n",
      "            },\n",
      "            {\n",
      "                \"roles\": [\n",
      "                    \"sensor\"\n",
      "                ],\n",
      "                \"image\": \"er-example-server.iotlab-m3\",\n",
      "                \"archi\": \"m3:at86rf231\",\n",
      "                \"site\": \"saclay\",\n",
      "                \"number\": 2\n",
      "            }\n",
      "        ]\n",
      "    }\n",
      "}\n"
     ]
    }
   ],
   "source": [
    "job_name=\"iotlab_g5k-ipv6\"\n",
    "iotlab_dict = {\n",
    "    \"walltime\": \"01:00\",\n",
    "    \"job_name\": job_name,\n",
    "    \"resources\": {\n",
    "        \"machines\": [\n",
    "            {\n",
    "                \"roles\": [\"border_router\"],\n",
    "                \"archi\": \"m3:at86rf231\",\n",
    "                \"site\": \"saclay\",\n",
    "                \"number\": 1,\n",
    "                \"image\": \"border-router.iotlab-m3\",\n",
    "            },\n",
    "            {\n",
    "                \"roles\": [\"sensor\"],\n",
    "                \"archi\": \"m3:at86rf231\",\n",
    "                \"site\": \"saclay\",\n",
    "                \"number\": 2,\n",
    "                \"image\": \"er-example-server.iotlab-m3\",\n",
    "            },\n",
    "        ]\n",
    "    },\n",
    "}\n",
    "iotlab_conf = IotlabConf.from_dictionary(iotlab_dict)"
   ]
  },
  {
   "cell_type": "markdown",
   "metadata": {},
   "source": [
    "### Grid'5000 provider configuration: reserve nodes in grenoble"
   ]
  },
  {
   "cell_type": "code",
   "execution_count": 4,
   "metadata": {},
   "outputs": [
    {
     "name": "stdout",
     "output_type": "stream",
     "text": [
      "{'roles': ['client'], 'primary_network': 'default', 'secondary_networks': [], 'cluster': 'yeti', 'nodes': 1}\n",
      "{\n",
      "    \"dhcp\": true,\n",
      "    \"force_deploy\": false,\n",
      "    \"env_name\": \"debian10-x64-nfs\",\n",
      "    \"job_name\": \"iotlab_g5k-ipv6\",\n",
      "    \"job_type\": \"allow_classic_ssh\",\n",
      "    \"key\": \"/home/donassolo/.ssh/id_rsa.pub\",\n",
      "    \"queue\": \"default\",\n",
      "    \"walltime\": \"02:00:00\",\n",
      "    \"resources\": {\n",
      "        \"machines\": [\n",
      "            {\n",
      "                \"roles\": [\n",
      "                    \"client\"\n",
      "                ],\n",
      "                \"primary_network\": \"default\",\n",
      "                \"secondary_networks\": [],\n",
      "                \"cluster\": \"yeti\",\n",
      "                \"nodes\": 1\n",
      "            }\n",
      "        ],\n",
      "        \"networks\": [\n",
      "            {\n",
      "                \"id\": \"default\",\n",
      "                \"type\": \"prod\",\n",
      "                \"roles\": [\n",
      "                    \"my_network\"\n",
      "                ],\n",
      "                \"site\": \"grenoble\"\n",
      "            }\n",
      "        ]\n",
      "    }\n",
      "}\n"
     ]
    }
   ],
   "source": [
    "g5k_dict = {\n",
    "    \"job_type\": \"allow_classic_ssh\",\n",
    "    \"job_name\": job_name,\n",
    "    \"resources\": {\n",
    "        \"machines\": [\n",
    "            {\n",
    "                \"roles\": [\"client\"],\n",
    "                \"cluster\": \"yeti\",\n",
    "                \"nodes\": 1,\n",
    "                \"primary_network\": \"default\",\n",
    "                \"secondary_networks\": [],\n",
    "            },\n",
    "        ],\n",
    "        \"networks\": [\n",
    "            {\"id\": \"default\", \"type\": \"prod\", \"roles\": [\"my_network\"], \"site\": \"grenoble\"}\n",
    "        ],\n",
    "    },\n",
    "}\n",
    "g5k_conf = G5kConf.from_dictionnary(g5k_dict)"
   ]
  },
  {
   "cell_type": "markdown",
   "metadata": {},
   "source": [
    "### We still need a Static provider to interact with the IoT-LAB frontend machine"
   ]
  },
  {
   "cell_type": "code",
   "execution_count": 5,
   "metadata": {},
   "outputs": [
    {
     "name": "stdout",
     "output_type": "stream",
     "text": [
      "{\n",
      "    \"resources\": {\n",
      "        \"machines\": [\n",
      "            {\n",
      "                \"address\": \"saclay.iot-lab.info\",\n",
      "                \"roles\": [\n",
      "                    \"frontend\"\n",
      "                ],\n",
      "                \"alias\": \"saclay\",\n",
      "                \"user\": \"donassol\"\n",
      "            }\n",
      "        ],\n",
      "        \"networks\": []\n",
      "    }\n",
      "}\n"
     ]
    }
   ],
   "source": [
    "import iotlabcli.auth\n",
    "iotlab_user, _ = iotlabcli.auth.get_user_credentials()\n",
    "\n",
    "iotlab_frontend_conf = (\n",
    "    StaticConf()\n",
    "    .add_machine(\n",
    "        roles=[\"frontend\"],\n",
    "        address=\"saclay.iot-lab.info\",\n",
    "        alias=\"saclay\",\n",
    "        user=iotlab_user\n",
    "    )\n",
    "    .finalize()\n",
    ")"
   ]
  },
  {
   "cell_type": "markdown",
   "metadata": {},
   "source": [
    "### IoT-LAB: getting resources"
   ]
  },
  {
   "cell_type": "code",
   "execution_count": 6,
   "metadata": {},
   "outputs": [
    {
     "name": "stdout",
     "output_type": "stream",
     "text": [
      "{\n",
      "    \"job_name\": \"iotlab_g5k-ipv6\",\n",
      "    \"walltime\": \"01:00\",\n",
      "    \"resources\": {\n",
      "        \"machines\": [\n",
      "            {\n",
      "                \"roles\": [\n",
      "                    \"border_router\"\n",
      "                ],\n",
      "                \"image\": \"border-router.iotlab-m3\",\n",
      "                \"archi\": \"m3:at86rf231\",\n",
      "                \"site\": \"saclay\",\n",
      "                \"number\": 1\n",
      "            },\n",
      "            {\n",
      "                \"roles\": [\n",
      "                    \"sensor\"\n",
      "                ],\n",
      "                \"image\": \"er-example-server.iotlab-m3\",\n",
      "                \"archi\": \"m3:at86rf231\",\n",
      "                \"site\": \"saclay\",\n",
      "                \"number\": 2\n",
      "            }\n",
      "        ]\n",
      "    }\n",
      "}\n",
      "[    INFO] : Waiting for job id (239624) to be in running state\n",
      "[    INFO] : Job id (239624) is running\n",
      "[    INFO] : Finished reserving nodes: hosts [], sensors [<IotlabSensor(roles=['border_router'], address=m3-10.saclay.iot-lab.info, site=saclay, uid=4061)>image=border-router.iotlab-m3)>, <IotlabSensor(roles=['sensor'], address=m3-11.saclay.iot-lab.info, site=saclay, uid=c471)>image=er-example-server.iotlab-m3)>, <IotlabSensor(roles=['sensor'], address=m3-12.saclay.iot-lab.info, site=saclay, uid=3560)>image=er-example-server.iotlab-m3)>]\n",
      "[    INFO] : Flashing image (border-router.iotlab-m3) on nodes (['m3-10.saclay.iot-lab.info'])\n",
      "[    INFO] : Flashing image (er-example-server.iotlab-m3) on nodes (['m3-11.saclay.iot-lab.info', 'm3-12.saclay.iot-lab.info'])\n",
      "{'border_router': [<IotlabSensor(roles=['border_router'], address=m3-10.saclay.iot-lab.info, site=saclay, uid=4061)>image=border-router.iotlab-m3)>], 'sensor': [<IotlabSensor(roles=['sensor'], address=m3-11.saclay.iot-lab.info, site=saclay, uid=c471)>image=er-example-server.iotlab-m3)>, <IotlabSensor(roles=['sensor'], address=m3-12.saclay.iot-lab.info, site=saclay, uid=3560)>image=er-example-server.iotlab-m3)>]}\n"
     ]
    }
   ],
   "source": [
    "iotlab_provider = Iotlab(iotlab_conf)\n",
    "iotlab_roles, _ = iotlab_provider.init()\n",
    "print(iotlab_roles)"
   ]
  },
  {
   "cell_type": "markdown",
   "metadata": {},
   "source": [
    "### Grid'5000: getting resources"
   ]
  },
  {
   "cell_type": "code",
   "execution_count": 7,
   "metadata": {},
   "outputs": [
    {
     "name": "stderr",
     "output_type": "stream",
     "text": [
      "/home/donassolo/enoslib_env/lib/python3.8/site-packages/grid5000/__init__.py:111: YAMLLoadWarning: calling yaml.load() without Loader=... is deprecated, as the default Loader is unsafe. Please read https://msg.pyyaml.org/load for full details.\n",
      "  conf = yaml.load(f)\n"
     ]
    },
    {
     "name": "stdout",
     "output_type": "stream",
     "text": [
      "[    INFO] : Reloading iotlab_g5k-ipv6 from grenoble\n",
      "[    INFO] : Reloading iotlab_g5k-ipv6 from lille\n",
      "[    INFO] : Reloading iotlab_g5k-ipv6 from luxembourg\n",
      "[    INFO] : Reloading iotlab_g5k-ipv6 from lyon\n",
      "[    INFO] : Reloading iotlab_g5k-ipv6 from nancy\n",
      "[    INFO] : Reloading iotlab_g5k-ipv6 from nantes\n",
      "[    INFO] : Reloading iotlab_g5k-ipv6 from rennes\n",
      "[    INFO] : Reloading iotlab_g5k-ipv6 from sophia\n",
      "[    INFO] : Submitting {'name': 'iotlab_g5k-ipv6', 'types': ['allow_classic_ssh'], 'resources': \"{cluster='yeti'}/nodes=1,walltime=02:00:00\", 'command': 'sleep 31536000', 'queue': 'default'} on grenoble\n",
      "[ WARNING] : Retrying (Retry(total=4, connect=5, read=4, redirect=None, status=None)) after connection broken by 'ProtocolError('Connection aborted.', RemoteDisconnected('Remote end closed connection without response'))': /stable/sites/grenoble/jobs/1970419\n",
      "[    INFO] : Waiting for 1970419 on grenoble [2020-12-22 18:44:33]\n",
      "[    INFO] : All jobs are Running !\n",
      "{'client': [Host(address='yeti-4.grenoble.grid5000.fr', alias='yeti-4.grenoble.grid5000.fr', user='root', keyfile=None, port=None, extra={})]}\n"
     ]
    }
   ],
   "source": [
    "g5k_provider = G5k(g5k_conf)\n",
    "g5k_roles, g5knetworks = g5k_provider.init()\n",
    "print(g5k_roles)"
   ]
  },
  {
   "cell_type": "markdown",
   "metadata": {},
   "source": [
    "### Static: getting resources"
   ]
  },
  {
   "cell_type": "code",
   "execution_count": 8,
   "metadata": {},
   "outputs": [
    {
     "name": "stdout",
     "output_type": "stream",
     "text": [
      "{'frontend': [Host(address='saclay.iot-lab.info', alias='saclay', user='donassol', keyfile=None, port=None, extra={})]}\n"
     ]
    }
   ],
   "source": [
    "frontend_provider = Static(iotlab_frontend_conf)\n",
    "frontend_roles, _ = frontend_provider.init()\n",
    "print(frontend_roles)"
   ]
  },
  {
   "cell_type": "markdown",
   "metadata": {},
   "source": [
    "## Configuring network connectivity"
   ]
  },
  {
   "cell_type": "markdown",
   "metadata": {},
   "source": [
    "### Enabling IPv6 on Grid'5000 nodes (https://www.grid5000.fr/w/IPv6)"
   ]
  },
  {
   "cell_type": "code",
   "execution_count": 9,
   "metadata": {},
   "outputs": [
    {
     "name": "stderr",
     "output_type": "stream",
     "text": [
      "[WARNING]: No inventory was parsed, only implicit localhost is available\n"
     ]
    },
    {
     "name": "stdout",
     "output_type": "stream",
     "text": [
      "None\n",
      "\n",
      "PLAY [all] *********************************************************************\n",
      "\n",
      "TASK [Gathering Facts] *********************************************************\n",
      " [started TASK: Gathering Facts on yeti-4.grenoble.grid5000.fr]\n"
     ]
    },
    {
     "name": "stderr",
     "output_type": "stream",
     "text": [
      "[WARNING]: Platform linux on host yeti-4.grenoble.grid5000.fr is using the\n",
      "discovered Python interpreter at /usr/bin/python, but future installation of\n",
      "another Python interpreter could change this. See https://docs.ansible.com/ansi\n",
      "ble/2.9/reference_appendices/interpreter_discovery.html for more information.\n"
     ]
    },
    {
     "name": "stdout",
     "output_type": "stream",
     "text": [
      "ok: [yeti-4.grenoble.grid5000.fr]\n",
      "\n",
      "TASK [enoslib_adhoc_command] ***************************************************\n",
      " [started TASK: enoslib_adhoc_command on yeti-4.grenoble.grid5000.fr]\n",
      "changed: [yeti-4.grenoble.grid5000.fr]\n"
     ]
    }
   ],
   "source": [
    "result=run_command(\"dhclient -6 br0\", roles=g5k_roles)"
   ]
  },
  {
   "cell_type": "code",
   "execution_count": 10,
   "metadata": {},
   "outputs": [
    {
     "name": "stdout",
     "output_type": "stream",
     "text": [
      "None\n",
      "\n",
      "PLAY [all] *********************************************************************\n",
      "\n",
      "TASK [Gathering Facts] *********************************************************\n",
      " [started TASK: Gathering Facts on yeti-4.grenoble.grid5000.fr]\n",
      "ok: [yeti-4.grenoble.grid5000.fr]\n",
      "\n",
      "TASK [enoslib_adhoc_command] ***************************************************\n",
      " [started TASK: enoslib_adhoc_command on yeti-4.grenoble.grid5000.fr]\n",
      "changed: [yeti-4.grenoble.grid5000.fr]\n",
      "{'yeti-4.grenoble.grid5000.fr': {'stdout': '7: br0: <BROADCAST,MULTICAST,UP,LOWER_UP> mtu 1500 qdisc noqueue state UP group default qlen 1000\\n    link/ether 24:6e:96:91:1d:b0 brd ff:ff:ff:ff:ff:ff\\n    inet 172.16.19.4/20 brd 172.16.31.255 scope global dynamic br0\\n       valid_lft 85077sec preferred_lft 85077sec\\n    inet6 2001:660:4406:100:4::4/128 scope global \\n       valid_lft forever preferred_lft forever\\n    inet6 fe80::266e:96ff:fe91:1db0/64 scope link \\n       valid_lft forever preferred_lft forever', 'stderr': ''}}\n"
     ]
    }
   ],
   "source": [
    "result = run_command(\"ip address show dev br0\", roles=g5k_roles)\n",
    "print(result['ok'])"
   ]
  },
  {
   "cell_type": "markdown",
   "metadata": {},
   "source": [
    "### Starting tunslip command in frontend.\n",
    "\n",
    "Redirect tunslip command output to a file to read it later."
   ]
  },
  {
   "cell_type": "code",
   "execution_count": 11,
   "metadata": {},
   "outputs": [
    {
     "name": "stdout",
     "output_type": "stream",
     "text": [
      "None\n",
      "\n",
      "PLAY [all] *********************************************************************\n",
      "\n",
      "TASK [Gathering Facts] *********************************************************\n",
      " [started TASK: Gathering Facts on saclay]\n"
     ]
    },
    {
     "name": "stderr",
     "output_type": "stream",
     "text": [
      "[WARNING]: Platform linux on host saclay is using the discovered Python\n",
      "interpreter at /usr/bin/python, but future installation of another Python\n",
      "interpreter could change this. See https://docs.ansible.com/ansible/2.9/referen\n",
      "ce_appendices/interpreter_discovery.html for more information.\n"
     ]
    },
    {
     "name": "stdout",
     "output_type": "stream",
     "text": [
      "ok: [saclay]\n",
      "\n",
      "TASK [enoslib_adhoc_command] ***************************************************\n",
      " [started TASK: enoslib_adhoc_command on saclay]\n",
      "changed: [saclay]\n"
     ]
    }
   ],
   "source": [
    "iotlab_ipv6_net=\"2001:660:3207:4c0::\"\n",
    "tun_cmd = \"sudo tunslip6.py -v2 -L -a %s -p 20000 %s1/64 > tunslip.output 2>&1\" % (iotlab_roles[\"border_router\"][0].alias, iotlab_ipv6_net)\n",
    "result=run_command(tun_cmd, roles=frontend_roles, asynch=3600, poll=0)"
   ]
  },
  {
   "cell_type": "markdown",
   "metadata": {},
   "source": [
    "### Reseting border router"
   ]
  },
  {
   "cell_type": "code",
   "execution_count": 12,
   "metadata": {},
   "outputs": [
    {
     "name": "stdout",
     "output_type": "stream",
     "text": [
      "[    INFO] : Executing command (reset) on nodes (['m3-10.saclay.iot-lab.info'])\n"
     ]
    }
   ],
   "source": [
    "iotlab_roles[\"border_router\"][0].reset()"
   ]
  },
  {
   "cell_type": "markdown",
   "metadata": {},
   "source": [
    "### Get the Border Router IPv6 address from tunslip output"
   ]
  },
  {
   "cell_type": "code",
   "execution_count": 13,
   "metadata": {},
   "outputs": [
    {
     "name": "stdout",
     "output_type": "stream",
     "text": [
      "None\n",
      "\n",
      "PLAY [all] *********************************************************************\n",
      "\n",
      "TASK [Gathering Facts] *********************************************************\n",
      " [started TASK: Gathering Facts on saclay]\n",
      "ok: [saclay]\n",
      "\n",
      "TASK [enoslib_adhoc_command] ***************************************************\n",
      " [started TASK: enoslib_adhoc_command on saclay]\n",
      "changed: [saclay]\n",
      "{'saclay': {'stdout': \"slip connected to ``172.16.42.10:20000''\\n\\n18:46:07 opened tun device ``/dev/tun0''\\n0000.000 ifconfig tun0 inet `hostname` mtu 1500 up\\n0000.017 ifconfig tun0 add 2001:660:3207:4c0::1/64\\n0000.024 ifconfig tun0 add fe80::660:3207:4c0:1/64\\n0000.030 ifconfig tun0\\n\\ntun0: flags=4305<UP,POINTOPOINT,RUNNING,NOARP,MULTICAST>  mtu 1500\\n        inet 192.168.5.23  netmask 255.255.255.255  destination 192.168.5.23\\n        inet6 fe80::660:3207:4c0:1  prefixlen 64  scopeid 0x20<link>\\n        inet6 2001:660:3207:4c0::1  prefixlen 64  scopeid 0x0<global>\\n        inet6 fe80::1482:f93a:e647:1c81  prefixlen 64  scopeid 0x20<link>\\n        unspec 00-00-00-00-00-00-00-00-00-00-00-00-00-00-00-00  txqueuelen 500  (UNSPEC)\\n        RX packets 0  bytes 0 (0.0 B)\\n        RX errors 0  dropped 0  overruns 0  frame 0\\n        TX packets 0  bytes 0 (0.0 B)\\n        TX errors 0  dropped 0 overruns 0  carrier 0  collisions 0\\n\\n0000.405 *** Address:2001:660:3207:4c0::1 => 2001:0660:3207:04c0\\n0000.451  Starting 'Border router process' 'Web server'Got configuration message of type P\\n0000.451 Setting prefix 2001:660:3207:4c0::\\n0001.405 Server IPv6 addresses:\\n0001.406  2001:660:3207:4c0::4061\\n0001.406  fe80::4061\\n0001.897 \\n0001.897 \\n0002.898 Platform starting in 1... \\n0002.898 GO!\\n0002.899 [in clock_init() DEBUG] Starting systick timer at 100Hz\\n0002.901 \\r\\n0002.901 *** Address:2001:660:3207:4c0::1 => 2001:0660:3207:04c0\\n0002.947  Starting 'Border router process' 'Web server'Got configuration message of type P\\n0002.947 Setting prefix 2001:660:3207:4c0::\\n0003.900 Server IPv6 addresses:\\n0003.901  2001:660:3207:4c0::4061\\n0003.901  fe80::4061\", 'stderr': ''}}\n"
     ]
    }
   ],
   "source": [
    "result = run_command(\"cat tunslip.output\", roles=frontend_roles)\n",
    "print(result['ok'])"
   ]
  },
  {
   "cell_type": "code",
   "execution_count": 14,
   "metadata": {},
   "outputs": [
    {
     "name": "stdout",
     "output_type": "stream",
     "text": [
      "slip connected to ``172.16.42.10:20000''\n",
      "\n",
      "18:46:07 opened tun device ``/dev/tun0''\n",
      "0000.000 ifconfig tun0 inet `hostname` mtu 1500 up\n",
      "0000.017 ifconfig tun0 add 2001:660:3207:4c0::1/64\n",
      "0000.024 ifconfig tun0 add fe80::660:3207:4c0:1/64\n",
      "0000.030 ifconfig tun0\n",
      "\n",
      "tun0: flags=4305<UP,POINTOPOINT,RUNNING,NOARP,MULTICAST>  mtu 1500\n",
      "        inet 192.168.5.23  netmask 255.255.255.255  destination 192.168.5.23\n",
      "        inet6 fe80::660:3207:4c0:1  prefixlen 64  scopeid 0x20<link>\n",
      "        inet6 2001:660:3207:4c0::1  prefixlen 64  scopeid 0x0<global>\n",
      "        inet6 fe80::1482:f93a:e647:1c81  prefixlen 64  scopeid 0x20<link>\n",
      "        unspec 00-00-00-00-00-00-00-00-00-00-00-00-00-00-00-00  txqueuelen 500  (UNSPEC)\n",
      "        RX packets 0  bytes 0 (0.0 B)\n",
      "        RX errors 0  dropped 0  overruns 0  frame 0\n",
      "        TX packets 0  bytes 0 (0.0 B)\n",
      "        TX errors 0  dropped 0 overruns 0  carrier 0  collisions 0\n",
      "\n",
      "0000.405 *** Address:2001:660:3207:4c0::1 => 2001:0660:3207:04c0\n",
      "0000.451  Starting 'Border router process' 'Web server'Got configuration message of type P\n",
      "0000.451 Setting prefix 2001:660:3207:4c0::\n",
      "0001.405 Server IPv6 addresses:\n",
      "0001.406  2001:660:3207:4c0::4061\n",
      "0001.406  fe80::4061\n",
      "0001.897 \n",
      "0001.897 \n",
      "0002.898 Platform starting in 1... \n",
      "0002.898 GO!\n",
      "0002.899 [in clock_init() DEBUG] Starting systick timer at 100Hz\n",
      "0002.901 \n",
      "0002.901 *** Address:2001:660:3207:4c0::1 => 2001:0660:3207:04c0\n",
      "0002.947  Starting 'Border router process' 'Web server'Got configuration message of type P\n",
      "0002.947 Setting prefix 2001:660:3207:4c0::\n",
      "0003.900 Server IPv6 addresses:\n",
      "0003.901  2001:660:3207:4c0::4061\n",
      "0003.901  fe80::4061\n",
      "Border Router IPv6 address from tunslip output: 2001:660:3207:4c0::4061\n"
     ]
    }
   ],
   "source": [
    "import re\n",
    "out = result['ok']['saclay']['stdout']\n",
    "print(out)\n",
    "match = re.search(rf'Server IPv6 addresses:\\n.+({iotlab_ipv6_net}\\w{{4}})', out, re.MULTILINE|re.DOTALL)\n",
    "br_ipv6 = match.groups()[0]\n",
    "print(\"Border Router IPv6 address from tunslip output: %s\" % br_ipv6)"
   ]
  },
  {
   "cell_type": "markdown",
   "metadata": {},
   "source": [
    "### Checking ping from Grid'5000 to border router node"
   ]
  },
  {
   "cell_type": "code",
   "execution_count": 15,
   "metadata": {},
   "outputs": [
    {
     "name": "stdout",
     "output_type": "stream",
     "text": [
      "None\n",
      "\n",
      "PLAY [client*] *****************************************************************\n",
      "\n",
      "TASK [Gathering Facts] *********************************************************\n",
      " [started TASK: Gathering Facts on yeti-4.grenoble.grid5000.fr]\n",
      "ok: [yeti-4.grenoble.grid5000.fr]\n",
      "\n",
      "TASK [enoslib_adhoc_command] ***************************************************\n",
      " [started TASK: enoslib_adhoc_command on yeti-4.grenoble.grid5000.fr]\n",
      "changed: [yeti-4.grenoble.grid5000.fr]\n",
      "{'yeti-4.grenoble.grid5000.fr': {'stdout': 'PING 2001:660:3207:4c0::4061(2001:660:3207:4c0::4061) 56 data bytes\\n64 bytes from 2001:660:3207:4c0::4061: icmp_seq=1 ttl=55 time=43.4 ms\\n64 bytes from 2001:660:3207:4c0::4061: icmp_seq=2 ttl=55 time=23.8 ms\\n64 bytes from 2001:660:3207:4c0::4061: icmp_seq=3 ttl=55 time=24.10 ms\\n\\n--- 2001:660:3207:4c0::4061 ping statistics ---\\n3 packets transmitted, 3 received, 0% packet loss, time 6ms\\nrtt min/avg/max/mdev = 23.759/30.707/43.378/8.975 ms', 'stderr': ''}}\n"
     ]
    }
   ],
   "source": [
    "result = run_command(\"ping6 -c3 %s\" % br_ipv6, pattern_hosts=\"client*\", roles=g5k_roles)\n",
    "print(result['ok'])"
   ]
  },
  {
   "cell_type": "markdown",
   "metadata": {},
   "source": [
    "## Installing and using CoAP clients"
   ]
  },
  {
   "cell_type": "markdown",
   "metadata": {},
   "source": [
    "### Install aiocoap client and lynx on grid'5000 nodes"
   ]
  },
  {
   "cell_type": "code",
   "execution_count": 16,
   "metadata": {},
   "outputs": [
    {
     "name": "stdout",
     "output_type": "stream",
     "text": [
      "[    INFO] : Running playbook /home/donassolo/cs2/enoslib_tests/iotlab_g5k/tmpg4t3qq2s with vars:\n",
      "{}\n",
      "\n",
      "PLAY [all] *********************************************************************\n",
      "\n",
      "TASK [Gathering Facts] *********************************************************\n",
      "ok: [yeti-4.grenoble.grid5000.fr]\n",
      "\n",
      "PLAY [all] *********************************************************************\n",
      "\n",
      "TASK [__calling__ apt] *********************************************************\n"
     ]
    },
    {
     "name": "stderr",
     "output_type": "stream",
     "text": [
      "[WARNING]: Updating cache and auto-installing missing dependency: python-apt\n"
     ]
    },
    {
     "name": "stdout",
     "output_type": "stream",
     "text": [
      "changed: [yeti-4.grenoble.grid5000.fr]\n",
      "\n",
      "PLAY RECAP *********************************************************************\n",
      "yeti-4.grenoble.grid5000.fr : ok=2    changed=1    unreachable=0    failed=0    skipped=0    rescued=0    ignored=0   \n",
      "\n",
      "{'code': 0, 'result': [{'yeti-4.grenoble.grid5000.fr': {'ok': 2, 'failures': 0, 'unreachable': 0, 'changed': 1, 'skipped': 0, 'rescued': 0, 'ignored': 0}}], 'playbook': '/home/donassolo/cs2/enoslib_tests/iotlab_g5k/tmpg4t3qq2s'}\n"
     ]
    }
   ],
   "source": [
    "with play_on(roles=g5k_roles) as p:\n",
    "    p.apt(name=[\"python3-aiocoap\", \"lynx\"], state=\"present\")"
   ]
  },
  {
   "cell_type": "markdown",
   "metadata": {},
   "source": [
    "### Grab the CoAP server node’s IPv6 address from the BR’s web interface"
   ]
  },
  {
   "cell_type": "code",
   "execution_count": 17,
   "metadata": {},
   "outputs": [
    {
     "name": "stdout",
     "output_type": "stream",
     "text": [
      "None\n",
      "\n",
      "PLAY [all] *********************************************************************\n",
      "\n",
      "TASK [Gathering Facts] *********************************************************\n",
      " [started TASK: Gathering Facts on yeti-4.grenoble.grid5000.fr]\n",
      "ok: [yeti-4.grenoble.grid5000.fr]\n",
      "\n",
      "TASK [enoslib_adhoc_command] ***************************************************\n",
      " [started TASK: enoslib_adhoc_command on yeti-4.grenoble.grid5000.fr]\n",
      "changed: [yeti-4.grenoble.grid5000.fr]\n",
      "{'yeti-4.grenoble.grid5000.fr': {'stdout': '   Neighbors\\nfe80::c471\\nfe80::3560\\n\\n   Routes\\n2001:660:3207:4c0::3560/128 (via fe80::3560) 1737s\\n2001:660:3207:4c0::c471/128 (via fe80::c471) 1772s', 'stderr': ''}}\n"
     ]
    }
   ],
   "source": [
    "result = run_command(\"lynx -dump http://[%s]\" % br_ipv6, roles=g5k_roles)\n",
    "print(result['ok'])"
   ]
  },
  {
   "cell_type": "markdown",
   "metadata": {},
   "source": [
    "### For a CoAP server, GET light sensor"
   ]
  },
  {
   "cell_type": "code",
   "execution_count": 18,
   "metadata": {},
   "outputs": [
    {
     "name": "stdout",
     "output_type": "stream",
     "text": [
      "   Neighbors\n",
      "fe80::c471\n",
      "fe80::3560\n",
      "\n",
      "   Routes\n",
      "2001:660:3207:4c0::3560/128 (via fe80::3560) 1737s\n",
      "2001:660:3207:4c0::c471/128 (via fe80::c471) 1772s\n",
      "c471\n"
     ]
    }
   ],
   "source": [
    "out = result['ok'][g5k_roles[\"client\"][0].address]['stdout']\n",
    "print(out)\n",
    "match = re.search(r'fe80::(\\w{4})', out, re.MULTILINE|re.DOTALL)\n",
    "node_uid = match.groups()[0]\n",
    "print(node_uid)"
   ]
  },
  {
   "cell_type": "code",
   "execution_count": 19,
   "metadata": {},
   "outputs": [
    {
     "name": "stdout",
     "output_type": "stream",
     "text": [
      "None\n",
      "\n",
      "PLAY [all] *********************************************************************\n",
      "\n",
      "TASK [Gathering Facts] *********************************************************\n",
      " [started TASK: Gathering Facts on yeti-4.grenoble.grid5000.fr]\n",
      "ok: [yeti-4.grenoble.grid5000.fr]\n",
      "\n",
      "TASK [enoslib_adhoc_command] ***************************************************\n",
      " [started TASK: enoslib_adhoc_command on yeti-4.grenoble.grid5000.fr]\n",
      "changed: [yeti-4.grenoble.grid5000.fr]\n",
      "{'yeti-4.grenoble.grid5000.fr': {'stdout': '3', 'stderr': '\\n(No newline at end of message)'}}\n"
     ]
    }
   ],
   "source": [
    "result = run_command(\"aiocoap-client coap://[%s%s]:5683/sensors/light\" % (iotlab_ipv6_net, node_uid), roles=g5k_roles)\n",
    "print(result['ok'])"
   ]
  },
  {
   "cell_type": "markdown",
   "metadata": {},
   "source": [
    "### GET pressure for the same sensor"
   ]
  },
  {
   "cell_type": "code",
   "execution_count": 20,
   "metadata": {},
   "outputs": [
    {
     "name": "stdout",
     "output_type": "stream",
     "text": [
      "None\n",
      "\n",
      "PLAY [all] *********************************************************************\n",
      "\n",
      "TASK [Gathering Facts] *********************************************************\n",
      " [started TASK: Gathering Facts on yeti-4.grenoble.grid5000.fr]\n",
      "ok: [yeti-4.grenoble.grid5000.fr]\n",
      "\n",
      "TASK [enoslib_adhoc_command] ***************************************************\n",
      " [started TASK: enoslib_adhoc_command on yeti-4.grenoble.grid5000.fr]\n",
      "changed: [yeti-4.grenoble.grid5000.fr]\n",
      "{'yeti-4.grenoble.grid5000.fr': {'stdout': '999', 'stderr': '\\n(No newline at end of message)'}}\n"
     ]
    }
   ],
   "source": [
    "result = run_command(\"aiocoap-client coap://[%s%s]:5683/sensors/pressure\" % (iotlab_ipv6_net, node_uid), roles=g5k_roles)\n",
    "print(result['ok'])"
   ]
  },
  {
   "cell_type": "markdown",
   "metadata": {},
   "source": [
    "## Clean-up phase"
   ]
  },
  {
   "cell_type": "markdown",
   "metadata": {},
   "source": [
    "### Stop tunslip in frontend node"
   ]
  },
  {
   "cell_type": "code",
   "execution_count": 21,
   "metadata": {},
   "outputs": [
    {
     "name": "stdout",
     "output_type": "stream",
     "text": [
      "None\n",
      "\n",
      "PLAY [all] *********************************************************************\n",
      "\n",
      "TASK [Gathering Facts] *********************************************************\n",
      " [started TASK: Gathering Facts on saclay]\n",
      "ok: [saclay]\n",
      "\n",
      "TASK [enoslib_adhoc_command] ***************************************************\n",
      " [started TASK: enoslib_adhoc_command on saclay]\n",
      "changed: [saclay]\n"
     ]
    }
   ],
   "source": [
    "result = run_command(\"pgrep tunslip6 | xargs kill\", roles=frontend_roles)"
   ]
  },
  {
   "cell_type": "markdown",
   "metadata": {},
   "source": [
    "### Destroy jobs in testbeds"
   ]
  },
  {
   "cell_type": "code",
   "execution_count": 22,
   "metadata": {},
   "outputs": [
    {
     "name": "stdout",
     "output_type": "stream",
     "text": [
      "[    INFO] : Reloading iotlab_g5k-ipv6 from grenoble\n",
      "[    INFO] : Reloading 1970419 from grenoble\n",
      "[    INFO] : Reloading iotlab_g5k-ipv6 from lille\n",
      "[    INFO] : Reloading iotlab_g5k-ipv6 from luxembourg\n",
      "[    INFO] : Reloading iotlab_g5k-ipv6 from lyon\n",
      "[    INFO] : Reloading iotlab_g5k-ipv6 from nancy\n",
      "[    INFO] : Reloading iotlab_g5k-ipv6 from nantes\n",
      "[    INFO] : Reloading iotlab_g5k-ipv6 from rennes\n",
      "[    INFO] : Reloading iotlab_g5k-ipv6 from sophia\n",
      "[    INFO] : Killing the job (grenoble, 1970419)\n",
      "[    INFO] : Stopping experiment id (239624)\n"
     ]
    }
   ],
   "source": [
    "g5k_provider.destroy()\n",
    "iotlab_provider.destroy()"
   ]
  }
 ],
 "metadata": {
  "kernelspec": {
   "display_name": "Python 3",
   "language": "python",
   "name": "python3"
  },
  "language_info": {
   "codemirror_mode": {
    "name": "ipython",
    "version": 3
   },
   "file_extension": ".py",
   "mimetype": "text/x-python",
   "name": "python",
   "nbconvert_exporter": "python",
   "pygments_lexer": "ipython3",
   "version": "3.8.5"
  }
 },
 "nbformat": 4,
 "nbformat_minor": 4
}
