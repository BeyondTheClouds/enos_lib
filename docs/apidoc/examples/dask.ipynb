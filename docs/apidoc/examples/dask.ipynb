{
 "metadata": {
  "language_info": {
   "codemirror_mode": {
    "name": "ipython",
    "version": 3
   },
   "file_extension": ".py",
   "mimetype": "text/x-python",
   "name": "python",
   "nbconvert_exporter": "python",
   "pygments_lexer": "ipython3",
   "version": "3.8.5-final"
  },
  "orig_nbformat": 2,
  "kernelspec": {
   "name": "python3",
   "display_name": "Python 3.8.5 64-bit ('andromak': conda)",
   "metadata": {
    "interpreter": {
     "hash": "044ddde3072526b14262047f16da4fe10c08ccab664ff325d5dd19288f92d50e"
    }
   }
  }
 },
 "nbformat": 4,
 "nbformat_minor": 2,
 "cells": [
  {
   "source": [
    "# Dask deployment on Grid'5000\n",
    "\n",
    "This notebook will deploy a Dask cluster on Grid'5000 and launch a simpe computation.\n",
    "\n",
    "Requirements: \n",
    "  - A conda[[1]] environment setup on the Grid'5000 frontend with dask installed and EnOSlib.\n",
    "  - The same environment can be use to run this notebook from your local machine. \n",
    "\n",
    "[1]: https://docs.conda.io/en/latest/miniconda.html#linux-installers\n",
    "\n",
    "\n",
    "## Initial impors\n",
    "    "
   ],
   "cell_type": "markdown",
   "metadata": {}
  },
  {
   "cell_type": "code",
   "execution_count": 21,
   "metadata": {},
   "outputs": [],
   "source": [
    "from enoslib import *\n",
    "import logging\n",
    "\n",
    "# get some logs\n",
    "logging.basicConfig(level=logging.INFO)"
   ]
  },
  {
   "source": [
    "## Get some resources on Grid'5000\n",
    "\n",
    "This will reserve two nodes, where the Dask cluster will be deployed later."
   ],
   "cell_type": "markdown",
   "metadata": {}
  },
  {
   "cell_type": "code",
   "execution_count": 22,
   "metadata": {},
   "outputs": [
    {
     "output_type": "stream",
     "name": "stderr",
     "text": [
      "INFO:enoslib.infra.enos_g5k.g5k_api_utils:Reloading dask from grenoble\n",
      "INFO:enoslib.infra.enos_g5k.g5k_api_utils:Reloading dask from lille\n",
      "{'roles': ['scheduler'], 'primary_network': 'prod', 'secondary_networks': [], 'cluster': 'parapide', 'nodes': 1}\n",
      "{'roles': ['worker'], 'primary_network': 'prod', 'secondary_networks': [], 'cluster': 'parapide', 'nodes': 1}\n",
      "{\n",
      "    \"dhcp\": true,\n",
      "    \"force_deploy\": false,\n",
      "    \"env_name\": \"debian10-x64-nfs\",\n",
      "    \"job_name\": \"dask\",\n",
      "    \"job_type\": \"allow_classic_ssh\",\n",
      "    \"key\": \"/home/msimonin/.ssh/id_rsa.pub\",\n",
      "    \"queue\": \"default\",\n",
      "    \"walltime\": \"02:00:00\",\n",
      "    \"resources\": {\n",
      "        \"machines\": [\n",
      "            {\n",
      "                \"roles\": [\n",
      "                    \"scheduler\"\n",
      "                ],\n",
      "                \"primary_network\": \"prod\",\n",
      "                \"secondary_networks\": [],\n",
      "                \"cluster\": \"parapide\",\n",
      "                \"nodes\": 1\n",
      "            },\n",
      "            {\n",
      "                \"roles\": [\n",
      "                    \"worker\"\n",
      "                ],\n",
      "                \"primary_network\": \"prod\",\n",
      "                \"secondary_networks\": [],\n",
      "                \"cluster\": \"parapide\",\n",
      "                \"nodes\": 1\n",
      "            }\n",
      "        ],\n",
      "        \"networks\": [\n",
      "            {\n",
      "                \"id\": \"prod\",\n",
      "                \"type\": \"prod\",\n",
      "                \"roles\": [\n",
      "                    \"network\"\n",
      "                ],\n",
      "                \"site\": \"rennes\"\n",
      "            }\n",
      "        ]\n",
      "    }\n",
      "}\n",
      "INFO:enoslib.infra.enos_g5k.g5k_api_utils:Reloading dask from luxembourg\n",
      "INFO:enoslib.infra.enos_g5k.g5k_api_utils:Reloading dask from lyon\n",
      "INFO:enoslib.infra.enos_g5k.g5k_api_utils:Reloading dask from nancy\n",
      "INFO:enoslib.infra.enos_g5k.g5k_api_utils:Reloading dask from nantes\n",
      "INFO:enoslib.infra.enos_g5k.g5k_api_utils:Reloading dask from rennes\n",
      "INFO:enoslib.infra.enos_g5k.g5k_api_utils:Reloading 1425746 from rennes\n",
      "INFO:enoslib.infra.enos_g5k.g5k_api_utils:Reloading dask from sophia\n",
      "INFO:enoslib.infra.enos_g5k.g5k_api_utils:Waiting for 1425746 on rennes [2021-01-12 13:37:51]\n",
      "INFO:enoslib.infra.enos_g5k.g5k_api_utils:All jobs are Running !\n"
     ]
    }
   ],
   "source": [
    "prod = G5kNetworkConf(id=\"prod\", roles=[\"network\"], type=\"prod\", site=\"rennes\")\n",
    "conf = (\n",
    "    G5kConf.from_settings(job_name=\"dask\", job_type=\"allow_classic_ssh\")\n",
    "    .add_machine(roles=[\"scheduler\"], cluster=\"parapide\", nodes=1, primary_network=prod)\n",
    "    .add_machine(roles=[\"worker\"], cluster=\"parapide\", nodes=1, primary_network=prod)\n",
    "    .add_network_conf(prod)\n",
    ").finalize()\n",
    "provider = G5k(conf)\n",
    "roles, _ = provider.init()"
   ]
  },
  {
   "source": [
    "# Deploy Dask on the nodes\n",
    "This assumes that the conda environment (dask-base) is configured in your home directory in `/home/<user>/miniconda3`.\n",
    "\n",
    "If the installation path differs, you can specify it using the `conda_prefix` parameter. "
   ],
   "cell_type": "markdown",
   "metadata": {}
  },
  {
   "cell_type": "code",
   "execution_count": 23,
   "metadata": {},
   "outputs": [
    {
     "output_type": "stream",
     "name": "stderr",
     "text": [
      "INFO:enoslib.api:Running playbook /home/msimonin/workspace/repos/enoslib/docs/apidoc/examples/tmpc775senv with vars:\n",
      "{}\n",
      "source /home/msimonin/miniconda3/etc/profile.d/conda.sh && conda activate andromak && dask-scheduler\n",
      "\n",
      "PLAY [scheduler] ***************************************************************\n",
      "\n",
      "TASK [(tmux ls | grep dask-scheduler )|| tmux new-session -s dask-scheduler -d 'source /home/msimonin/miniconda3/etc/profile.d/conda.sh && conda activate andromak && dask-scheduler'] ***\n",
      "Tuesday 12 January 2021  14:14:40 +0100 (0:13:33.402)       0:28:23.917 ******* \n",
      "changed: [parapide-12.rennes.grid5000.fr]\n",
      "\n",
      "TASK [__calling__ wait_for] ****************************************************\n",
      "Tuesday 12 January 2021  14:14:42 +0100 (0:00:01.219)       0:28:25.136 ******* \n",
      "ok: [parapide-12.rennes.grid5000.fr]\n",
      "\n",
      "PLAY RECAP *********************************************************************\n",
      "parapide-12.rennes.grid5000.fr : ok=2    changed=1    unreachable=0    failed=0    skipped=0    rescued=0    ignored=0   \n",
      "\n",
      "Tuesday 12 January 2021  14:14:42 +0100 (0:00:00.436)       0:28:25.573 ******* \n",
      "=============================================================================== \n",
      "(tmux ls | grep dask-scheduler )|| tmux new-session -s dask-scheduler -d 'source /home/msimonin/miniconda3/etc/profile.d/conda.sh && conda activate andromak && dask-scheduler' --- 1.22s\n",
      "__calling__ wait_for ---------------------------------------------------- 0.44s\n",
      "INFO:enoslib.api:Running playbook /home/msimonin/workspace/repos/enoslib/docs/apidoc/examples/tmp8e30zh9l with vars:\n",
      "{}\n",
      "{'code': 0, 'result': [{'parapide-12.rennes.grid5000.fr': {'ok': 2, 'failures': 0, 'unreachable': 0, 'changed': 1, 'skipped': 0, 'rescued': 0, 'ignored': 0}}], 'playbook': '/home/msimonin/workspace/repos/enoslib/docs/apidoc/examples/tmpc775senv'}\n",
      "\n",
      "PLAY [worker] ******************************************************************\n",
      "\n",
      "TASK [(tmux ls | grep dask-worker )|| tmux new-session -s dask-worker -d 'source /home/msimonin/miniconda3/etc/profile.d/conda.sh && conda activate andromak && dask-worker tcp://parapide-12.rennes.grid5000.fr:8786 '] ***\n",
      "Tuesday 12 January 2021  14:14:42 +0100 (0:00:00.082)       0:28:25.656 ******* \n",
      "changed: [parapide-16.rennes.grid5000.fr]\n",
      "\n",
      "PLAY RECAP *********************************************************************\n",
      "parapide-16.rennes.grid5000.fr : ok=1    changed=1    unreachable=0    failed=0    skipped=0    rescued=0    ignored=0   \n",
      "\n",
      "Tuesday 12 January 2021  14:14:43 +0100 (0:00:01.167)       0:28:26.823 ******* \n",
      "=============================================================================== \n",
      "(tmux ls | grep dask-worker )|| tmux new-session -s dask-worker -d 'source /home/msimonin/miniconda3/etc/profile.d/conda.sh && conda activate andromak && dask-worker tcp://parapide-12.rennes.grid5000.fr:8786 ' --- 1.17s\n",
      "{'code': 0, 'result': [{'parapide-16.rennes.grid5000.fr': {'ok': 1, 'failures': 0, 'unreachable': 0, 'changed': 1, 'skipped': 0, 'rescued': 0, 'ignored': 0}}], 'playbook': '/home/msimonin/workspace/repos/enoslib/docs/apidoc/examples/tmp8e30zh9l'}\n"
     ]
    }
   ],
   "source": [
    "username = g5k_api_utils.get_api_username()\n",
    "dask = Dask(\"dask-base\", scheduler=roles[\"scheduler\"][0], workers=roles[\"worker\"], run_as=username)\n",
    "dask.deploy()"
   ]
  },
  {
   "source": [
    "## Using Dask\n",
    "\n",
    "Here we go with a simple computation (3 tasks, 2 dependent-ones). \n",
    "The below code will create all the tunnels needed to access the Dask dashboard and the scheduler."
   ],
   "cell_type": "markdown",
   "metadata": {}
  },
  {
   "cell_type": "code",
   "execution_count": 24,
   "metadata": {},
   "outputs": [],
   "source": [
    "from dask import delayed\n",
    "import time\n",
    "\n",
    "def inc(x):\n",
    "    time.sleep(5)\n",
    "    return x + 1\n",
    "\n",
    "def dec(x):\n",
    "    time.sleep(3)\n",
    "    return x - 1\n",
    "\n",
    "def add(x, y):\n",
    "    time.sleep(7)\n",
    "    return x + y\n",
    "\n",
    "x = delayed(inc)(1)\n",
    "y = delayed(dec)(2)\n",
    "total = delayed(add)(x, y)"
   ]
  },
  {
   "source": [
    "## Launch the computation\n",
    "\n",
    "In the mean time you can check the web dashboard. The connection URL will be displayed."
   ],
   "cell_type": "markdown",
   "metadata": {}
  },
  {
   "cell_type": "code",
   "execution_count": 25,
   "metadata": {},
   "outputs": [
    {
     "output_type": "stream",
     "name": "stderr",
     "text": [
      "INFO:paramiko.transport:Connected (version 2.0, client OpenSSH_7.4p1)\n",
      "INFO:paramiko.transport:Authentication (publickey) successful!\n",
      "INFO:paramiko.transport:Connected (version 2.0, client OpenSSH_7.4p1)\n",
      "dashboard: http://0.0.0.0:38383\n",
      "INFO:paramiko.transport:Authentication (publickey) successful!\n",
      "Scheduler address: 0.0.0.0:35945\n",
      "result=3\n"
     ]
    }
   ],
   "source": [
    "from dask.distributed import Client\n",
    "# Tunnel to the dashboard\n",
    "addr, port, tunnel = G5kTunnel(dask.scheduler.address, 8787).start()\n",
    "print(f\"dashboard: http://{addr}:{port}\")\n",
    "with G5kTunnel(dask.scheduler.address, 8786) as (addr, port, _):\n",
    "    print(f\"Scheduler address: {addr}:{port}\")\n",
    "    client = Client(f\"tcp://{addr}:{port}\")\n",
    "    # launch a computation\n",
    "    print(f\"result={total.compute()}\")\n",
    "\n"
   ]
  },
  {
   "cell_type": "code",
   "execution_count": 26,
   "metadata": {},
   "outputs": [
    {
     "output_type": "stream",
     "name": "stderr",
     "text": [
      "INFO:enoslib.api:Running playbook /home/msimonin/workspace/repos/enoslib/docs/apidoc/examples/tmpt2mbeu_y with vars:\n",
      "{}\n",
      "\n",
      "PLAY [scheduler] ***************************************************************\n",
      "\n",
      "TASK [Killing the dask scheduler] **********************************************\n",
      "Tuesday 12 January 2021  14:14:57 +0100 (0:00:13.913)       0:28:40.736 ******* \n",
      "changed: [parapide-12.rennes.grid5000.fr]\n",
      "\n",
      "PLAY RECAP *********************************************************************\n",
      "parapide-12.rennes.grid5000.fr : ok=1    changed=1    unreachable=0    failed=0    skipped=0    rescued=0    ignored=0   \n",
      "\n",
      "Tuesday 12 January 2021  14:14:57 +0100 (0:00:00.203)       0:28:40.940 ******* \n",
      "=============================================================================== \n",
      "Killing the dask scheduler ---------------------------------------------- 0.21s\n",
      "INFO:enoslib.api:Running playbook /home/msimonin/workspace/repos/enoslib/docs/apidoc/examples/tmpr0joxpnq with vars:\n",
      "{}\n",
      "{'code': 0, 'result': [{'parapide-12.rennes.grid5000.fr': {'ok': 1, 'failures': 0, 'unreachable': 0, 'changed': 1, 'skipped': 0, 'rescued': 0, 'ignored': 0}}], 'playbook': '/home/msimonin/workspace/repos/enoslib/docs/apidoc/examples/tmpt2mbeu_y'}\n",
      "\n",
      "PLAY [worker] ******************************************************************\n",
      "\n",
      "TASK [Killing the dask worker] *************************************************\n",
      "Tuesday 12 January 2021  14:14:57 +0100 (0:00:00.074)       0:28:41.014 ******* \n",
      "changed: [parapide-16.rennes.grid5000.fr]\n",
      "\n",
      "PLAY RECAP *********************************************************************\n",
      "parapide-16.rennes.grid5000.fr : ok=1    changed=1    unreachable=0    failed=0    skipped=0    rescued=0    ignored=0   \n",
      "\n",
      "Tuesday 12 January 2021  14:14:58 +0100 (0:00:00.202)       0:28:41.217 ******* \n",
      "=============================================================================== \n",
      "Killing the dask worker  ------------------------------------------------ 0.21s\n",
      "{'code': 0, 'result': [{'parapide-16.rennes.grid5000.fr': {'ok': 1, 'failures': 0, 'unreachable': 0, 'changed': 1, 'skipped': 0, 'rescued': 0, 'ignored': 0}}], 'playbook': '/home/msimonin/workspace/repos/enoslib/docs/apidoc/examples/tmpr0joxpnq'}\n"
     ]
    }
   ],
   "source": [
    "# will stop the tunnel to the dashboard and the Dask cluster.\n",
    "if tunnel is not None:\n",
    "    tunnel.stop(force=True)\n",
    "dask.destroy()"
   ]
  },
  {
   "cell_type": "code",
   "execution_count": null,
   "metadata": {},
   "outputs": [],
   "source": []
  }
 ]
}